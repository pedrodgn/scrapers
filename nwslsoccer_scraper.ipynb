{
 "cells": [
  {
   "cell_type": "code",
   "execution_count": 106,
   "id": "4672e43b",
   "metadata": {},
   "outputs": [],
   "source": [
    "import pandas as pd\n",
    "from selenium import webdriver\n",
    "from selenium.webdriver.common.by import By\n",
    "from selenium.webdriver.support.ui import WebDriverWait\n",
    "from selenium.webdriver.support import expected_conditions as EC\n",
    "from selenium import webdriver\n",
    "from selenium.webdriver.common.keys import Keys\n",
    "from webdriver_manager.chrome import ChromeDriverManager\n",
    "import time\n",
    "from fuzzywuzzy import fuzz\n",
    "from datetime import date\n",
    "import datetime as dt\n",
    "import pandas as pd\n",
    "import numpy as np\n",
    "import random\n",
    "from selenium.webdriver.chrome.options import Options\n",
    "import re\n",
    "from tqdm import tqdm\n",
    "import warnings\n",
    "import selenium\n",
    "warnings.filterwarnings(\"ignore\")"
   ]
  },
  {
   "cell_type": "code",
   "execution_count": 107,
   "id": "38509b2f",
   "metadata": {},
   "outputs": [],
   "source": [
    "driver = webdriver.Chrome()\n",
    "driver.get(\"https://www.nwslsoccer.com/schedule\")"
   ]
  },
  {
   "cell_type": "code",
   "execution_count": 108,
   "id": "df6a6f91",
   "metadata": {},
   "outputs": [],
   "source": [
    "row_text = [val.text for val in driver.find_elements(\"class name\",\"row\")]"
   ]
  },
  {
   "cell_type": "code",
   "execution_count": 109,
   "id": "892c214c",
   "metadata": {},
   "outputs": [],
   "source": [
    "links = pd.Series([val.get_attribute(\"href\") for val in driver.find_elements(\"xpath\",\"//a[@href]\")])\n",
    "game_urls = links[links.str.contains(\"game\")&links.str.contains(\"vs\")&~links.str.contains(\"stats\")].drop_duplicates()\n",
    "game_info = game_urls.apply(lambda x: x.split(\"/\")[-1])"
   ]
  },
  {
   "cell_type": "code",
   "execution_count": 110,
   "id": "a4c6d326",
   "metadata": {},
   "outputs": [],
   "source": [
    "game_date_series = pd.to_datetime(game_info.apply(lambda x: x[-10:]))\n",
    "home_team_series = game_info.apply(lambda x: x.split(\"-vs-\")[0])\n",
    "away_team_series = game_info.apply(lambda x: x.split(\"-vs-\")[1][:-11])\n",
    "\n",
    "home_team_series = home_team_series.apply(lambda x: re.sub(\"-\",\" \",x))\n",
    "away_team_series = away_team_series.apply(lambda x: re.sub(\"-\",\" \",x))\n"
   ]
  },
  {
   "cell_type": "code",
   "execution_count": 111,
   "id": "b4ac68ac",
   "metadata": {},
   "outputs": [
    {
     "data": {
      "text/plain": [
       "182"
      ]
     },
     "execution_count": 111,
     "metadata": {},
     "output_type": "execute_result"
    }
   ],
   "source": [
    "len(game_urls)"
   ]
  },
  {
   "cell_type": "code",
   "execution_count": null,
   "id": "9b118f58",
   "metadata": {},
   "outputs": [],
   "source": []
  },
  {
   "cell_type": "code",
   "execution_count": 113,
   "id": "0789de62",
   "metadata": {},
   "outputs": [],
   "source": [
    "row_text_games = pd.Series(row_text)[pd.Series(row_text).str.contains(\"EVENT\")&~pd.Series(row_text).str.contains(\"2024\")].drop_duplicates()"
   ]
  },
  {
   "cell_type": "code",
   "execution_count": 114,
   "id": "22afe2db",
   "metadata": {},
   "outputs": [],
   "source": [
    "row_text_df = row_text_games.apply(lambda x: pd.Series(x.split(\"\\n\")))"
   ]
  },
  {
   "cell_type": "code",
   "execution_count": 115,
   "id": "1afc014a",
   "metadata": {},
   "outputs": [],
   "source": [
    "stadiums = ['CPKC Stadium', 'Lynn Family Stadium', 'WakeMed Soccer Park',\n",
    "       'America First Field', 'Lumen Field', 'BMO Stadium',\n",
    "       'Inter&Co Stadium', 'SeatGeek Stadium', 'Audi Field',\n",
    "       'Shell Energy Stadium', 'Snapdragon Stadium', 'Providence Park',\n",
    "       'PayPal Park','Shell Energy Stadium',\n",
    "       'America First Field', 'WakeMed Soccer Park',\n",
    "       'Lynn Family Stadium', 'SeatGeek Stadium', 'Red Bull Arena',\n",
    "       'PayPal Park', 'Inter&Co Stadium', 'Audi Field', 'CPKC Stadium',\n",
    "       'Providence Park', 'Lumen Field', 'BMO Stadium',\n",
    "       'Snapdragon Stadium']"
   ]
  },
  {
   "cell_type": "code",
   "execution_count": 116,
   "id": "c40ab2ef",
   "metadata": {
    "scrolled": true
   },
   "outputs": [],
   "source": [
    "location = pd.concat([row_text_df[row_text_df[7].isin(stadiums)][7],row_text_df[row_text_df[5].isin(stadiums)][5]])"
   ]
  },
  {
   "cell_type": "code",
   "execution_count": 123,
   "id": "ef1be9ec",
   "metadata": {},
   "outputs": [],
   "source": [
    "gametime = list(row_text_df[4].values)"
   ]
  },
  {
   "cell_type": "code",
   "execution_count": null,
   "id": "894b9343",
   "metadata": {},
   "outputs": [],
   "source": []
  },
  {
   "cell_type": "code",
   "execution_count": 117,
   "id": "6565d0a0",
   "metadata": {},
   "outputs": [],
   "source": [
    "full_df = pd.DataFrame(zip(game_date_series,home_team_series,away_team_series),columns=[\"GAME_DATE\",\"HOME_TEAM\",\"AWAY_TEAM\"])"
   ]
  },
  {
   "cell_type": "code",
   "execution_count": null,
   "id": "a5690d13",
   "metadata": {},
   "outputs": [],
   "source": []
  },
  {
   "cell_type": "code",
   "execution_count": 126,
   "id": "5dc8749f",
   "metadata": {},
   "outputs": [
    {
     "data": {
      "text/html": [
       "<div>\n",
       "<style scoped>\n",
       "    .dataframe tbody tr th:only-of-type {\n",
       "        vertical-align: middle;\n",
       "    }\n",
       "\n",
       "    .dataframe tbody tr th {\n",
       "        vertical-align: top;\n",
       "    }\n",
       "\n",
       "    .dataframe thead th {\n",
       "        text-align: right;\n",
       "    }\n",
       "</style>\n",
       "<table border=\"1\" class=\"dataframe\">\n",
       "  <thead>\n",
       "    <tr style=\"text-align: right;\">\n",
       "      <th></th>\n",
       "      <th>GAME_DATE</th>\n",
       "      <th>HOME_TEAM</th>\n",
       "      <th>AWAY_TEAM</th>\n",
       "      <th>LOCATION</th>\n",
       "      <th>GAME_TIME</th>\n",
       "    </tr>\n",
       "  </thead>\n",
       "  <tbody>\n",
       "    <tr>\n",
       "      <th>0</th>\n",
       "      <td>2024-03-16</td>\n",
       "      <td>kansas city current</td>\n",
       "      <td>portland thorns fc</td>\n",
       "      <td>CPKC Stadium</td>\n",
       "      <td>-</td>\n",
       "    </tr>\n",
       "    <tr>\n",
       "      <th>1</th>\n",
       "      <td>2024-03-16</td>\n",
       "      <td>racing louisville fc</td>\n",
       "      <td>orlando pride</td>\n",
       "      <td>Lynn Family Stadium</td>\n",
       "      <td>-</td>\n",
       "    </tr>\n",
       "    <tr>\n",
       "      <th>2</th>\n",
       "      <td>2024-03-16</td>\n",
       "      <td>north carolina courage</td>\n",
       "      <td>houston dash</td>\n",
       "      <td>WakeMed Soccer Park</td>\n",
       "      <td>-</td>\n",
       "    </tr>\n",
       "    <tr>\n",
       "      <th>3</th>\n",
       "      <td>2024-03-16</td>\n",
       "      <td>utah royals fc</td>\n",
       "      <td>chicago red stars</td>\n",
       "      <td>America First Field</td>\n",
       "      <td>-</td>\n",
       "    </tr>\n",
       "    <tr>\n",
       "      <th>4</th>\n",
       "      <td>2024-03-17</td>\n",
       "      <td>seattle reign</td>\n",
       "      <td>washington spirit</td>\n",
       "      <td>Lumen Field</td>\n",
       "      <td>-</td>\n",
       "    </tr>\n",
       "    <tr>\n",
       "      <th>...</th>\n",
       "      <td>...</td>\n",
       "      <td>...</td>\n",
       "      <td>...</td>\n",
       "      <td>...</td>\n",
       "      <td>...</td>\n",
       "    </tr>\n",
       "    <tr>\n",
       "      <th>177</th>\n",
       "      <td>2024-11-02</td>\n",
       "      <td>orlando pride</td>\n",
       "      <td>seattle reign</td>\n",
       "      <td>Inter&amp;Co Stadium</td>\n",
       "      <td>5:00 PM ET</td>\n",
       "    </tr>\n",
       "    <tr>\n",
       "      <th>178</th>\n",
       "      <td>2024-11-02</td>\n",
       "      <td>north carolina courage</td>\n",
       "      <td>washington spirit</td>\n",
       "      <td>WakeMed Soccer Park</td>\n",
       "      <td>7:30 PM ET</td>\n",
       "    </tr>\n",
       "    <tr>\n",
       "      <th>179</th>\n",
       "      <td>2024-11-02</td>\n",
       "      <td>houston dash</td>\n",
       "      <td>bay fc</td>\n",
       "      <td>Shell Energy Stadium</td>\n",
       "      <td>9:30 PM ET</td>\n",
       "    </tr>\n",
       "    <tr>\n",
       "      <th>180</th>\n",
       "      <td>2024-11-03</td>\n",
       "      <td>chicago red stars</td>\n",
       "      <td>kansas city current</td>\n",
       "      <td>SeatGeek Stadium</td>\n",
       "      <td>3:00 PM ET</td>\n",
       "    </tr>\n",
       "    <tr>\n",
       "      <th>181</th>\n",
       "      <td>2024-11-03</td>\n",
       "      <td>san diego wave fc</td>\n",
       "      <td>racing louisville fc</td>\n",
       "      <td>Snapdragon Stadium</td>\n",
       "      <td>5:30 PM ET</td>\n",
       "    </tr>\n",
       "  </tbody>\n",
       "</table>\n",
       "<p>182 rows × 5 columns</p>\n",
       "</div>"
      ],
      "text/plain": [
       "     GAME_DATE               HOME_TEAM             AWAY_TEAM  \\\n",
       "0   2024-03-16     kansas city current    portland thorns fc   \n",
       "1   2024-03-16    racing louisville fc         orlando pride   \n",
       "2   2024-03-16  north carolina courage          houston dash   \n",
       "3   2024-03-16          utah royals fc     chicago red stars   \n",
       "4   2024-03-17           seattle reign     washington spirit   \n",
       "..         ...                     ...                   ...   \n",
       "177 2024-11-02           orlando pride         seattle reign   \n",
       "178 2024-11-02  north carolina courage     washington spirit   \n",
       "179 2024-11-02            houston dash                bay fc   \n",
       "180 2024-11-03       chicago red stars   kansas city current   \n",
       "181 2024-11-03       san diego wave fc  racing louisville fc   \n",
       "\n",
       "                 LOCATION   GAME_TIME  \n",
       "0            CPKC Stadium           -  \n",
       "1     Lynn Family Stadium           -  \n",
       "2     WakeMed Soccer Park           -  \n",
       "3     America First Field           -  \n",
       "4             Lumen Field           -  \n",
       "..                    ...         ...  \n",
       "177      Inter&Co Stadium  5:00 PM ET  \n",
       "178   WakeMed Soccer Park  7:30 PM ET  \n",
       "179  Shell Energy Stadium  9:30 PM ET  \n",
       "180      SeatGeek Stadium  3:00 PM ET  \n",
       "181    Snapdragon Stadium  5:30 PM ET  \n",
       "\n",
       "[182 rows x 5 columns]"
      ]
     },
     "execution_count": 126,
     "metadata": {},
     "output_type": "execute_result"
    }
   ],
   "source": [
    "full_df[\"LOCATION\"] = list(location)\n",
    "full_df[\"GAME_TIME\"] = list(gametime)\n",
    "full_df.loc[~full_df[\"GAME_TIME\"].str.contains(\"PM\"),\"GAME_TIME\"] = \"-\"\n",
    "full_df"
   ]
  },
  {
   "cell_type": "code",
   "execution_count": null,
   "id": "f2a100b6",
   "metadata": {},
   "outputs": [],
   "source": []
  },
  {
   "cell_type": "code",
   "execution_count": 127,
   "id": "63c79548",
   "metadata": {},
   "outputs": [],
   "source": [
    "full_df.to_csv(\"nwsl_soccer_schedule.csv\",index=False)"
   ]
  },
  {
   "cell_type": "code",
   "execution_count": null,
   "id": "053a4888",
   "metadata": {},
   "outputs": [],
   "source": []
  },
  {
   "cell_type": "code",
   "execution_count": null,
   "id": "6e492698",
   "metadata": {},
   "outputs": [],
   "source": []
  },
  {
   "cell_type": "code",
   "execution_count": null,
   "id": "6f087ee8",
   "metadata": {},
   "outputs": [],
   "source": []
  }
 ],
 "metadata": {
  "kernelspec": {
   "display_name": "Python 3 (ipykernel)",
   "language": "python",
   "name": "python3"
  },
  "language_info": {
   "codemirror_mode": {
    "name": "ipython",
    "version": 3
   },
   "file_extension": ".py",
   "mimetype": "text/x-python",
   "name": "python",
   "nbconvert_exporter": "python",
   "pygments_lexer": "ipython3",
   "version": "3.11.4"
  }
 },
 "nbformat": 4,
 "nbformat_minor": 5
}
