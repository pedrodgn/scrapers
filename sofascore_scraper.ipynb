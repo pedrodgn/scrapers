{
 "cells": [
  {
   "cell_type": "code",
   "execution_count": 101,
   "id": "92427b9a",
   "metadata": {},
   "outputs": [],
   "source": [
    "import pandas as pd\n",
    "from selenium import webdriver\n",
    "from selenium.webdriver.common.by import By\n",
    "from selenium.webdriver.support.ui import WebDriverWait\n",
    "from selenium.webdriver.support import expected_conditions as EC\n",
    "from selenium import webdriver\n",
    "from selenium.webdriver.common.keys import Keys\n",
    "from webdriver_manager.chrome import ChromeDriverManager\n",
    "import time\n",
    "from fuzzywuzzy import fuzz\n",
    "from datetime import date\n",
    "import datetime as dt\n",
    "import pandas as pd\n",
    "import numpy as np\n",
    "import random\n",
    "from selenium.webdriver.chrome.options import Options\n",
    "import re\n",
    "from tqdm import tqdm\n",
    "import warnings\n",
    "import selenium\n",
    "warnings.filterwarnings(\"ignore\")\n",
    "from selenium.webdriver.support.ui import Select"
   ]
  },
  {
   "cell_type": "code",
   "execution_count": 102,
   "id": "50ca3d52",
   "metadata": {},
   "outputs": [],
   "source": [
    "driver = webdriver.Chrome()"
   ]
  },
  {
   "cell_type": "code",
   "execution_count": 103,
   "id": "b2b7f23f",
   "metadata": {},
   "outputs": [],
   "source": [
    "url_seasons = [\"https://www.sofascore.com/pt/torneio/futebol/england/premier-league/17#id:23776\",\n",
    "              \"https://www.sofascore.com/pt/torneio/futebol/england/premier-league/17#id:29415\",\n",
    "              \"https://www.sofascore.com/pt/torneio/futebol/england/premier-league/17#id:37036\",\n",
    "              \"https://www.sofascore.com/pt/torneio/futebol/england/premier-league/17#id:41886\",\n",
    "              \"https://www.sofascore.com/pt/torneio/futebol/england/premier-league/17#id:52186\"]"
   ]
  },
  {
   "cell_type": "code",
   "execution_count": 104,
   "id": "a848c5c8",
   "metadata": {},
   "outputs": [],
   "source": [
    "url_seasons_dict = dict(zip(url_seasons,[\"2019-20\",\"2020-21\",\"2021-22\",\"2022-23\",\"2023-24\"]))"
   ]
  },
  {
   "cell_type": "code",
   "execution_count": null,
   "id": "c798584f",
   "metadata": {},
   "outputs": [],
   "source": []
  },
  {
   "cell_type": "code",
   "execution_count": null,
   "id": "8753b5e7",
   "metadata": {},
   "outputs": [],
   "source": []
  },
  {
   "cell_type": "code",
   "execution_count": 111,
   "id": "38454e66",
   "metadata": {},
   "outputs": [],
   "source": [
    "\n",
    "\n",
    "def get_all_links(url):    \n",
    "    all_links = pd.DataFrame(columns=[\"URL\",\"SEASON_ID\"])\n",
    "    driver = webdriver.Chrome()\n",
    "    driver.get(url)\n",
    "    time.sleep(5)\n",
    "    \n",
    "    button_elem = driver.find_elements(\"tag name\",\"button\")\n",
    "    button_text = [val.text for val in button_elem]\n",
    "    button_df = pd.DataFrame(zip(button_text,button_elem),columns=[\"TEXT\",\"ELEMS\"])\n",
    "\n",
    "\n",
    "    links = pd.Series([val.get_attribute(\"href\") for val in driver.find_elements(\"xpath\",\"//a[@href]\")])\n",
    "    local_links = pd.DataFrame(links[links.str.contains(\"#id:\")],columns=[\"URL\"])\n",
    "    local_links[\"SEASON_ID\"] = url_seasons_dict[url]\n",
    "    all_links = pd.concat([all_links, local_links])\n",
    "\n",
    "\n",
    "\n",
    "    while len(button_df[button_df[\"TEXT\"].str.contains(\"ANTER\")][\"ELEMS\"].values)>0:\n",
    "\n",
    "\n",
    "        links = pd.Series([val.get_attribute(\"href\") for val in driver.find_elements(\"xpath\",\"//a[@href]\")])\n",
    "        local_links = pd.DataFrame(links[links.str.contains(\"#id:\")],columns=[\"URL\"])        \n",
    "        local_links[\"SEASON_ID\"] = url_seasons_dict[url]\n",
    "        \n",
    "        all_links = pd.concat([all_links, local_links])\n",
    "\n",
    "        button_elem = driver.find_elements(\"tag name\",\"button\")\n",
    "        button_text = [val.text for val in button_elem]\n",
    "        button_df = pd.DataFrame(zip(button_text,button_elem),columns=[\"TEXT\",\"ELEMS\"])  \n",
    "\n",
    "        if len(button_df[button_df[\"TEXT\"].str.contains(\"ANTER\")][\"ELEMS\"].values)>0:\n",
    "            button_df[button_df[\"TEXT\"].str.contains(\"ANTER\")][\"ELEMS\"].values[0].click()\n",
    "            \n",
    "    return all_links"
   ]
  },
  {
   "cell_type": "code",
   "execution_count": null,
   "id": "e9f43f94",
   "metadata": {},
   "outputs": [],
   "source": []
  },
  {
   "cell_type": "code",
   "execution_count": 112,
   "id": "e3e27254",
   "metadata": {},
   "outputs": [],
   "source": [
    "url_seasons_0 = get_all_links(url_seasons[0])\n",
    "url_seasons_1 = get_all_links(url_seasons[1])\n",
    "\n",
    "url_seasons_2 = get_all_links(url_seasons[2])\n",
    "url_seasons_3 = get_all_links(url_seasons[3])\n",
    "url_seasons_4 = get_all_links(url_seasons[4])"
   ]
  },
  {
   "cell_type": "code",
   "execution_count": 115,
   "id": "efd4203f",
   "metadata": {},
   "outputs": [],
   "source": []
  },
  {
   "cell_type": "code",
   "execution_count": null,
   "id": "0d500f3e",
   "metadata": {},
   "outputs": [],
   "source": []
  },
  {
   "cell_type": "code",
   "execution_count": 124,
   "id": "7bd8231e",
   "metadata": {},
   "outputs": [],
   "source": [
    "driver = webdriver.Chrome()"
   ]
  },
  {
   "cell_type": "code",
   "execution_count": null,
   "id": "fcd0f947",
   "metadata": {},
   "outputs": [],
   "source": [
    "full_df_attack = pd.DataFrame()\n",
    "full_df_defence = pd.DataFrame()\n",
    "full_df_passing = pd.DataFrame()\n",
    "full_df_duels = pd.DataFrame()\n",
    "full_df_goalkeepers = pd.DataFrame()\n",
    "\n",
    "\n",
    "count = 0\n",
    "\n",
    "for url in tqdm(full_url[\"URL\"].values[1800:]):\n",
    "\n",
    "    driver.get(url)\n",
    "    time.sleep(1)\n",
    "    \n",
    "    to_click = driver.find_elements(\"css selector\",\"#__next > main > div.fresnel-container.fresnel-greaterThanOrEqual-mdMin > div.Box.cyOxcH.sc-d8bc48b6-0.dvhVZy > div.Box.Flex.ggRYVx.cQgcrM.sc-d8bc48b6-1.kYWPFe > div.Box.clAhaB.sc-d8bc48b6-2.cUcAWg > div:nth-child(2) > div > div.Box.haiiQU > div.Box.bkrWzf.sc-imWYAI.gzXbCV.secondary\")\n",
    "    \n",
    "    if len(to_click)>0:\n",
    "        \n",
    "        to_click[0].click()\n",
    "\n",
    "        time.sleep(1)\n",
    "\n",
    "        button_elem = driver.find_elements(\"tag name\",\"button\")\n",
    "        button_text = [val.text for val in button_elem]\n",
    "        button_df = pd.DataFrame(zip(button_text,button_elem),columns=[\"TEXT\",\"ELEMS\"])  \n",
    "\n",
    "        local_df_summary = pd.read_html(driver.page_source)[0]\n",
    "\n",
    "        button_df[button_df[\"TEXT\"].str.contains(\"Attack\")][\"ELEMS\"].values[0].click()\n",
    "        local_df_attack = pd.read_html(driver.page_source)[0]\n",
    "\n",
    "        button_df[button_df[\"TEXT\"].str.contains(\"Defen\")][\"ELEMS\"].values[0].click()\n",
    "        local_df_defence = pd.read_html(driver.page_source)[0]\n",
    "\n",
    "        button_df[button_df[\"TEXT\"].str.contains(\"Passin\")][\"ELEMS\"].values[0].click()\n",
    "        local_df_passing = pd.read_html(driver.page_source)[0]\n",
    "\n",
    "        button_df[button_df[\"TEXT\"].str.contains(\"Duel\")][\"ELEMS\"].values[0].click()\n",
    "        local_df_duels = pd.read_html(driver.page_source)[0]\n",
    "\n",
    "        button_df[button_df[\"TEXT\"].str.contains(\"Goalk\")][\"ELEMS\"].values[0].click()\n",
    "        local_df_goalkeepers = pd.read_html(driver.page_source)[0]\n",
    "\n",
    "        matchup = driver.find_elements(\"tag name\",\"h1\")[0].text\n",
    "        span_series = pd.Series([val.text for val in driver.find_elements(\"tag name\",\"span\")])\n",
    "        round_matchup = span_series[span_series.str.contains(\"Round\")].values[0]  \n",
    "\n",
    "        local_df_attack[\"URL\"] = url\n",
    "        local_df_defence[\"URL\"] = url\n",
    "        local_df_passing[\"URL\"] = url\n",
    "        local_df_duels[\"URL\"] = url\n",
    "        local_df_goalkeepers[\"URL\"] = url\n",
    "\n",
    "        local_df_attack[\"MATCHUP\"] = matchup\n",
    "        local_df_defence[\"MATCHUP\"] = matchup\n",
    "        local_df_passing[\"MATCHUP\"] = matchup\n",
    "        local_df_duels[\"MATCHUP\"] = matchup\n",
    "        local_df_goalkeepers[\"MATCHUP\"] = matchup\n",
    "\n",
    "        local_df_attack[\"ROUND\"] = round_matchup\n",
    "        local_df_defence[\"ROUND\"] = round_matchup\n",
    "        local_df_passing[\"ROUND\"] = round_matchup\n",
    "        local_df_duels[\"ROUND\"] = round_matchup\n",
    "        local_df_goalkeepers[\"ROUND\"] = round_matchup    \n",
    "\n",
    "        full_df_attack = pd.concat([full_df_attack,local_df_attack])\n",
    "        full_df_defence = pd.concat([full_df_defence,local_df_defence])\n",
    "        full_df_passing = pd.concat([full_df_passing,local_df_passing])\n",
    "        full_df_duels = pd.concat([full_df_duels,local_df_duels])\n",
    "        full_df_goalkeepers = pd.concat([full_df_goalkeepers,local_df_goalkeepers])\n",
    "\n",
    "        count+=1\n",
    "\n",
    "        if count%100==1:\n",
    "            full_df_attack.to_csv(\"full_attack.csv\",index=False)\n",
    "            full_df_defence.to_csv(\"full_defence.csv\",index=False)\n",
    "            full_df_passing.to_csv(\"full_passing.csv\",index=False)\n",
    "            full_df_duels.to_csv(\"full_duels.csv\",index=False)\n",
    "            full_df_goalkeepers.to_csv(\"full_goalkeepers.csv\",index=False)      "
   ]
  },
  {
   "cell_type": "code",
   "execution_count": null,
   "id": "63e2c0b7",
   "metadata": {},
   "outputs": [],
   "source": []
  },
  {
   "cell_type": "code",
   "execution_count": null,
   "id": "7fa22f7e",
   "metadata": {},
   "outputs": [],
   "source": [
    "full_df_attack.to_csv(\"full_attack.csv\",index=False)\n",
    "full_df_defence.to_csv(\"full_defence.csv\",index=False)\n",
    "full_df_passing.to_csv(\"full_passing.csv\",index=False)\n",
    "full_df_duels.to_csv(\"full_duels.csv\",index=False)\n",
    "full_df_goalkeepers.to_csv(\"full_goalkeepers.csv\",index=False)  "
   ]
  },
  {
   "cell_type": "code",
   "execution_count": null,
   "id": "5868160b",
   "metadata": {},
   "outputs": [],
   "source": []
  },
  {
   "cell_type": "code",
   "execution_count": null,
   "id": "7f57c96a",
   "metadata": {},
   "outputs": [],
   "source": []
  },
  {
   "cell_type": "code",
   "execution_count": null,
   "id": "598d710c",
   "metadata": {},
   "outputs": [],
   "source": []
  },
  {
   "cell_type": "code",
   "execution_count": null,
   "id": "4aed573c",
   "metadata": {},
   "outputs": [],
   "source": []
  },
  {
   "cell_type": "code",
   "execution_count": null,
   "id": "430c869a",
   "metadata": {},
   "outputs": [],
   "source": []
  }
 ],
 "metadata": {
  "kernelspec": {
   "display_name": "Python 3 (ipykernel)",
   "language": "python",
   "name": "python3"
  },
  "language_info": {
   "codemirror_mode": {
    "name": "ipython",
    "version": 3
   },
   "file_extension": ".py",
   "mimetype": "text/x-python",
   "name": "python",
   "nbconvert_exporter": "python",
   "pygments_lexer": "ipython3",
   "version": "3.11.4"
  }
 },
 "nbformat": 4,
 "nbformat_minor": 5
}
