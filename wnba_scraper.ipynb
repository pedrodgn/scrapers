{
 "cells": [
  {
   "cell_type": "code",
   "execution_count": 63,
   "id": "92427b9a",
   "metadata": {},
   "outputs": [],
   "source": [
    "import pandas as pd\n",
    "from selenium import webdriver\n",
    "from selenium.webdriver.common.by import By\n",
    "from selenium.webdriver.support.ui import WebDriverWait\n",
    "from selenium.webdriver.support import expected_conditions as EC\n",
    "from selenium import webdriver\n",
    "from selenium.webdriver.common.keys import Keys\n",
    "from webdriver_manager.chrome import ChromeDriverManager\n",
    "import time\n",
    "from fuzzywuzzy import fuzz\n",
    "from datetime import date\n",
    "import datetime as dt\n",
    "import pandas as pd\n",
    "import numpy as np\n",
    "import random\n",
    "from selenium.webdriver.chrome.options import Options\n",
    "import re\n",
    "from tqdm import tqdm\n",
    "import warnings\n",
    "import selenium\n",
    "warnings.filterwarnings(\"ignore\")"
   ]
  },
  {
   "cell_type": "code",
   "execution_count": 64,
   "id": "38454e66",
   "metadata": {},
   "outputs": [],
   "source": [
    "driver = webdriver.Chrome()\n",
    "driver.get(\"https://www.wnba.com/schedule?season=2024&month=all\")\n",
    "time.sleep(5)"
   ]
  },
  {
   "cell_type": "code",
   "execution_count": 73,
   "id": "cf448f3a",
   "metadata": {},
   "outputs": [],
   "source": [
    "row_text = [val.text for val in driver.find_elements(\"tag name\",\"a\")]"
   ]
  },
  {
   "cell_type": "code",
   "execution_count": null,
   "id": "f37b0039",
   "metadata": {},
   "outputs": [],
   "source": []
  },
  {
   "cell_type": "code",
   "execution_count": 74,
   "id": "8b67d3a0",
   "metadata": {},
   "outputs": [],
   "source": [
    "date_series = pd.Series([val.text for val in driver.find_elements(\"tag name\",\"h2\")])\n",
    "date_series = date_series[date_series.str.contains(\"2024\")].apply(lambda x: x.split(\", \"))\n",
    "\n",
    "date_series = date_series.apply(lambda x: x[-2]+\", \"+x[-1])\n",
    "date_series = pd.to_datetime(date_series.apply(lambda x: dt.date.strftime(dt.datetime.strptime(x, \"%b %d, %Y\"),\"%Y-%m-%d\")))"
   ]
  },
  {
   "cell_type": "code",
   "execution_count": null,
   "id": "18503b2c",
   "metadata": {},
   "outputs": [],
   "source": []
  },
  {
   "cell_type": "code",
   "execution_count": 75,
   "id": "04b00bf0",
   "metadata": {},
   "outputs": [],
   "source": [
    "span_tag = pd.Series([val.text for val in driver.find_elements(\"tag name\",\"span\")])\n",
    "game_numbers = span_tag[span_tag.str.contains(\"Game\")]\n"
   ]
  },
  {
   "cell_type": "code",
   "execution_count": 76,
   "id": "0b3db47d",
   "metadata": {},
   "outputs": [],
   "source": [
    "game_numbers = list(game_numbers.apply(lambda x: int(x.split(\" \")[0])))"
   ]
  },
  {
   "cell_type": "code",
   "execution_count": 77,
   "id": "de0d80dd",
   "metadata": {},
   "outputs": [],
   "source": [
    "all_date = []\n",
    "\n",
    "for date, number in zip(date_series,game_numbers):\n",
    "    \n",
    "    for i in range(number):\n",
    "        all_date.append(date)\n",
    "    \n",
    "    "
   ]
  },
  {
   "cell_type": "code",
   "execution_count": 78,
   "id": "5ac4f98e",
   "metadata": {},
   "outputs": [],
   "source": [
    "#taking out the preseason game\n",
    "all_date = all_date[1:]"
   ]
  },
  {
   "cell_type": "code",
   "execution_count": 79,
   "id": "e8432403",
   "metadata": {},
   "outputs": [],
   "source": [
    "row_series = pd.Series(row_text)[pd.Series(row_text).str.contains(\"GMT\")]"
   ]
  },
  {
   "cell_type": "code",
   "execution_count": null,
   "id": "b23d302e",
   "metadata": {},
   "outputs": [],
   "source": []
  },
  {
   "cell_type": "code",
   "execution_count": 83,
   "id": "ba55b5c7",
   "metadata": {},
   "outputs": [],
   "source": [
    "location = list(row_series.apply(lambda x: x.split(\"\\n\")[-1]))\n",
    "away_team = list(row_series.apply(lambda x: x.split(\"\\n\")[1]))\n",
    "home_team = list(row_series.apply(lambda x: x.split(\"\\n\")[2]))\n",
    "gametime = list(row_series.apply(lambda x: x.split(\"\\n\")[0]))\n"
   ]
  },
  {
   "cell_type": "code",
   "execution_count": null,
   "id": "9ea3f71d",
   "metadata": {},
   "outputs": [],
   "source": []
  },
  {
   "cell_type": "code",
   "execution_count": 85,
   "id": "4a94b4a2",
   "metadata": {},
   "outputs": [],
   "source": [
    "full_df = pd.DataFrame(zip(all_date,home_team,away_team,location,gametime),columns=[\"GAME_DATE\",\"HOME_TEAM\",\"AWAY_TEAM\",\"LOCATION\",\"GAME_TIME\"])"
   ]
  },
  {
   "cell_type": "code",
   "execution_count": 86,
   "id": "699dfdc5",
   "metadata": {},
   "outputs": [],
   "source": [
    "full_df.to_csv(\"wnba_schedule.csv\",index=False)"
   ]
  },
  {
   "cell_type": "code",
   "execution_count": 87,
   "id": "83379169",
   "metadata": {},
   "outputs": [
    {
     "data": {
      "text/html": [
       "<div>\n",
       "<style scoped>\n",
       "    .dataframe tbody tr th:only-of-type {\n",
       "        vertical-align: middle;\n",
       "    }\n",
       "\n",
       "    .dataframe tbody tr th {\n",
       "        vertical-align: top;\n",
       "    }\n",
       "\n",
       "    .dataframe thead th {\n",
       "        text-align: right;\n",
       "    }\n",
       "</style>\n",
       "<table border=\"1\" class=\"dataframe\">\n",
       "  <thead>\n",
       "    <tr style=\"text-align: right;\">\n",
       "      <th></th>\n",
       "      <th>GAME_DATE</th>\n",
       "      <th>HOME_TEAM</th>\n",
       "      <th>AWAY_TEAM</th>\n",
       "      <th>LOCATION</th>\n",
       "      <th>GAME_TIME</th>\n",
       "    </tr>\n",
       "  </thead>\n",
       "  <tbody>\n",
       "    <tr>\n",
       "      <th>0</th>\n",
       "      <td>2024-05-14</td>\n",
       "      <td>Washington Mystics</td>\n",
       "      <td>New York Liberty</td>\n",
       "      <td>Entertainment and Sports Arena Washington, DC</td>\n",
       "      <td>8:00PM GMT-3</td>\n",
       "    </tr>\n",
       "    <tr>\n",
       "      <th>1</th>\n",
       "      <td>2024-05-14</td>\n",
       "      <td>Connecticut Sun</td>\n",
       "      <td>Indiana Fever</td>\n",
       "      <td>Mohegan Sun Arena Uncasville, CT</td>\n",
       "      <td>9:00PM GMT-3</td>\n",
       "    </tr>\n",
       "    <tr>\n",
       "      <th>2</th>\n",
       "      <td>2024-05-14</td>\n",
       "      <td>Las Vegas Aces</td>\n",
       "      <td>Phoenix Mercury</td>\n",
       "      <td>Michelob ULTRA Arena Las Vegas, NV</td>\n",
       "      <td>11:00PM GMT-3</td>\n",
       "    </tr>\n",
       "    <tr>\n",
       "      <th>3</th>\n",
       "      <td>2024-05-14</td>\n",
       "      <td>Seattle Storm</td>\n",
       "      <td>Minnesota Lynx</td>\n",
       "      <td>Climate Pledge Arena Seattle, WA</td>\n",
       "      <td>11:00PM GMT-3</td>\n",
       "    </tr>\n",
       "    <tr>\n",
       "      <th>4</th>\n",
       "      <td>2024-05-15</td>\n",
       "      <td>Dallas Wings</td>\n",
       "      <td>Chicago Sky</td>\n",
       "      <td>College Park Center Arlington, TX</td>\n",
       "      <td>9:00PM GMT-3</td>\n",
       "    </tr>\n",
       "    <tr>\n",
       "      <th>...</th>\n",
       "      <td>...</td>\n",
       "      <td>...</td>\n",
       "      <td>...</td>\n",
       "      <td>...</td>\n",
       "      <td>...</td>\n",
       "    </tr>\n",
       "    <tr>\n",
       "      <th>236</th>\n",
       "      <td>2024-09-19</td>\n",
       "      <td>New York Liberty</td>\n",
       "      <td>Atlanta Dream</td>\n",
       "      <td>Barclays Center Brooklyn, NY</td>\n",
       "      <td>8:00PM GMT-3</td>\n",
       "    </tr>\n",
       "    <tr>\n",
       "      <th>237</th>\n",
       "      <td>2024-09-19</td>\n",
       "      <td>Washington Mystics</td>\n",
       "      <td>Indiana Fever</td>\n",
       "      <td>Entertainment and Sports Arena Washington, DC</td>\n",
       "      <td>8:00PM GMT-3</td>\n",
       "    </tr>\n",
       "    <tr>\n",
       "      <th>238</th>\n",
       "      <td>2024-09-19</td>\n",
       "      <td>Minnesota Lynx</td>\n",
       "      <td>Los Angeles Sparks</td>\n",
       "      <td>Target Center Minneapolis, MN</td>\n",
       "      <td>8:00PM GMT-3</td>\n",
       "    </tr>\n",
       "    <tr>\n",
       "      <th>239</th>\n",
       "      <td>2024-09-19</td>\n",
       "      <td>Las Vegas Aces</td>\n",
       "      <td>Dallas Wings</td>\n",
       "      <td>Michelob ULTRA Arena Las Vegas, NV</td>\n",
       "      <td>10:00PM GMT-3</td>\n",
       "    </tr>\n",
       "    <tr>\n",
       "      <th>240</th>\n",
       "      <td>2024-09-19</td>\n",
       "      <td>Phoenix Mercury</td>\n",
       "      <td>Seattle Storm</td>\n",
       "      <td>Footprint Center Phoenix, AZ</td>\n",
       "      <td>10:00PM GMT-3</td>\n",
       "    </tr>\n",
       "  </tbody>\n",
       "</table>\n",
       "<p>241 rows × 5 columns</p>\n",
       "</div>"
      ],
      "text/plain": [
       "     GAME_DATE           HOME_TEAM           AWAY_TEAM  \\\n",
       "0   2024-05-14  Washington Mystics    New York Liberty   \n",
       "1   2024-05-14     Connecticut Sun       Indiana Fever   \n",
       "2   2024-05-14      Las Vegas Aces     Phoenix Mercury   \n",
       "3   2024-05-14       Seattle Storm      Minnesota Lynx   \n",
       "4   2024-05-15        Dallas Wings         Chicago Sky   \n",
       "..         ...                 ...                 ...   \n",
       "236 2024-09-19    New York Liberty       Atlanta Dream   \n",
       "237 2024-09-19  Washington Mystics       Indiana Fever   \n",
       "238 2024-09-19      Minnesota Lynx  Los Angeles Sparks   \n",
       "239 2024-09-19      Las Vegas Aces        Dallas Wings   \n",
       "240 2024-09-19     Phoenix Mercury       Seattle Storm   \n",
       "\n",
       "                                          LOCATION      GAME_TIME  \n",
       "0    Entertainment and Sports Arena Washington, DC   8:00PM GMT-3  \n",
       "1                 Mohegan Sun Arena Uncasville, CT   9:00PM GMT-3  \n",
       "2               Michelob ULTRA Arena Las Vegas, NV  11:00PM GMT-3  \n",
       "3                 Climate Pledge Arena Seattle, WA  11:00PM GMT-3  \n",
       "4                College Park Center Arlington, TX   9:00PM GMT-3  \n",
       "..                                             ...            ...  \n",
       "236                   Barclays Center Brooklyn, NY   8:00PM GMT-3  \n",
       "237  Entertainment and Sports Arena Washington, DC   8:00PM GMT-3  \n",
       "238                  Target Center Minneapolis, MN   8:00PM GMT-3  \n",
       "239             Michelob ULTRA Arena Las Vegas, NV  10:00PM GMT-3  \n",
       "240                   Footprint Center Phoenix, AZ  10:00PM GMT-3  \n",
       "\n",
       "[241 rows x 5 columns]"
      ]
     },
     "execution_count": 87,
     "metadata": {},
     "output_type": "execute_result"
    }
   ],
   "source": [
    "full_df"
   ]
  },
  {
   "cell_type": "code",
   "execution_count": null,
   "id": "9f363453",
   "metadata": {},
   "outputs": [],
   "source": []
  },
  {
   "cell_type": "code",
   "execution_count": null,
   "id": "5868160b",
   "metadata": {},
   "outputs": [],
   "source": []
  },
  {
   "cell_type": "code",
   "execution_count": null,
   "id": "7f57c96a",
   "metadata": {},
   "outputs": [],
   "source": []
  },
  {
   "cell_type": "code",
   "execution_count": null,
   "id": "598d710c",
   "metadata": {},
   "outputs": [],
   "source": []
  },
  {
   "cell_type": "code",
   "execution_count": null,
   "id": "4aed573c",
   "metadata": {},
   "outputs": [],
   "source": []
  },
  {
   "cell_type": "code",
   "execution_count": null,
   "id": "430c869a",
   "metadata": {},
   "outputs": [],
   "source": []
  }
 ],
 "metadata": {
  "kernelspec": {
   "display_name": "Python 3 (ipykernel)",
   "language": "python",
   "name": "python3"
  },
  "language_info": {
   "codemirror_mode": {
    "name": "ipython",
    "version": 3
   },
   "file_extension": ".py",
   "mimetype": "text/x-python",
   "name": "python",
   "nbconvert_exporter": "python",
   "pygments_lexer": "ipython3",
   "version": "3.11.4"
  }
 },
 "nbformat": 4,
 "nbformat_minor": 5
}
